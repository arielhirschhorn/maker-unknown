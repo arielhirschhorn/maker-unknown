{
 "cells": [
  {
   "cell_type": "code",
   "execution_count": 1,
   "id": "db00556a",
   "metadata": {},
   "outputs": [],
   "source": [
    "#ONLY RUN THIS FILE ONCE! get_all_objects() is slow... luckily I've saved the resulting dataframe as a .pkl\n",
    "\n",
    "import json\n",
    "import requests\n",
    "import pandas as pd\n",
    "import numpy as np\n",
    "import matplotlib.pyplot as plt\n",
    "import pickle\n",
    "import nltk\n",
    "from nltk.stem import PorterStemmer as ps\n",
    "from nltk.tokenize import word_tokenize\n",
    "from nltk.corpus import stopwords\n",
    "from nltk.tokenize import WordPunctTokenizer\n",
    "stemmer = ps()\n",
    "from nltk.stem.cistem import Cistem\n",
    "from nltk.tokenize import word_tokenize\n",
    "stop_words = set(stopwords.words('english'))\n",
    "\n",
    "#display max rows\n",
    "pd.set_option(\"display.max_rows\", None, \"display.max_columns\", None)"
   ]
  },
  {
   "cell_type": "code",
   "execution_count": 2,
   "id": "12c0bef8",
   "metadata": {},
   "outputs": [],
   "source": [
    "# Function to format the JSON objects correctly\n",
    "def jprint(obj):\n",
    "    text = json.dumps(obj, sort_keys=True, indent=4)\n",
    "    print(text)"
   ]
  },
  {
   "cell_type": "code",
   "execution_count": 8,
   "id": "ede06754",
   "metadata": {},
   "outputs": [],
   "source": [
    "#Function to take JSON objects and turn them into a DF across multiple pages\n",
    "#This does all the pages of Unknown makers with 25 results per page. NOTE: This will take ~forever to run\n",
    "\n",
    "def get_all_objects():\n",
    "    data_list = []\n",
    "    for x in range(0, 1392):\n",
    "        parameters = {\"search_api_fulltext\": \"Unknown\",\n",
    "                      \"items_per_page\": 25,\n",
    "                      \"page\": x\n",
    "                      }\n",
    "        response = requests.get(\"https://risdmuseum.org/api/v1/collection\", params=parameters).json()\n",
    "        for item in response:\n",
    "            data_list.append(item)\n",
    "\n",
    "    df = pd.DataFrame()\n",
    "    for each_dict in data_list:\n",
    "        new_df = pd.json_normalize(each_dict)\n",
    "        df = df.append(new_df)\n",
    "    return df"
   ]
  },
  {
   "cell_type": "code",
   "execution_count": 9,
   "id": "4aeacaac",
   "metadata": {
    "scrolled": true
   },
   "outputs": [],
   "source": [
    "##Getting all Maker Unknown objects from DB\n",
    "object_df = get_all_objects()"
   ]
  },
  {
   "cell_type": "code",
   "execution_count": 10,
   "id": "7b944319",
   "metadata": {},
   "outputs": [],
   "source": [
    "##caching with pkl so we don't have to retrieve every time\n",
    "object_df.to_pickle(\"./unknown_makers_full.pkl\")"
   ]
  },
  {
   "cell_type": "code",
   "execution_count": 5,
   "id": "259fa0d3",
   "metadata": {},
   "outputs": [],
   "source": [
    "##A function to get total numbers for a particular individual category, i.e. culture, dating, etc. \n",
    "def get_counts(original_df, category_name, new_name):\n",
    "    if(isinstance(original_df[category_name].iloc[0], list)):\n",
    "        mega_list = []\n",
    "        for row in original_df[category_name]:\n",
    "            item_list = row\n",
    "            for item in row: \n",
    "                mega_list.append(item)\n",
    "                mega_list.sort()\n",
    "        new_dict = {}\n",
    "        for category in mega_list:\n",
    "            if not category in new_dict.keys():\n",
    "                new_dict[category] = 1\n",
    "            else:\n",
    "                new_dict[category] +=1\n",
    "        counts_df = pd.DataFrame([new_dict]).melt()\n",
    "\n",
    "    else:\n",
    "        counts = original_df.groupby([category_name]).size()\n",
    "        counts_df = counts.to_frame().reset_index(category_name)\n",
    "    counts_df.columns = [new_name, 'Object Count']\n",
    "    sorted_df = counts_df.sort_values('Object Count', ascending = False)\n",
    "    return sorted_df"
   ]
  },
  {
   "cell_type": "code",
   "execution_count": null,
   "id": "b267141b",
   "metadata": {},
   "outputs": [],
   "source": [
    "##Get counts for the type of object\n",
    "get_counts(object_df,'type', 'Object Type')"
   ]
  },
  {
   "cell_type": "code",
   "execution_count": null,
   "id": "e57cf4b3",
   "metadata": {},
   "outputs": [],
   "source": [
    "#Get counts for each culture\n",
    "get_counts(object_df,'culture', 'Culture Label')"
   ]
  },
  {
   "cell_type": "code",
   "execution_count": null,
   "id": "cd137b18",
   "metadata": {},
   "outputs": [],
   "source": [
    "#Get counts for each date: Question for Denise- how best to categorize?\n",
    "#Regex needed if I wanted to explore this further\n",
    "get_counts(object_df,'dating', 'Approx. Date')"
   ]
  },
  {
   "cell_type": "code",
   "execution_count": null,
   "id": "b5a7f01a",
   "metadata": {},
   "outputs": [],
   "source": [
    "#Get counts for medium type\n",
    "get_counts(object_df,'medium', 'Medium Type')"
   ]
  },
  {
   "cell_type": "code",
   "execution_count": null,
   "id": "dbe9f5d2",
   "metadata": {},
   "outputs": [],
   "source": []
  }
 ],
 "metadata": {
  "kernelspec": {
   "display_name": "Python 3",
   "language": "python",
   "name": "python3"
  },
  "language_info": {
   "codemirror_mode": {
    "name": "ipython",
    "version": 3
   },
   "file_extension": ".py",
   "mimetype": "text/x-python",
   "name": "python",
   "nbconvert_exporter": "python",
   "pygments_lexer": "ipython3",
   "version": "3.8.8"
  }
 },
 "nbformat": 4,
 "nbformat_minor": 5
}
