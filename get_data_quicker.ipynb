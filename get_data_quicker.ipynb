{
 "cells": [
  {
   "cell_type": "code",
   "execution_count": 1,
   "id": "db00556a",
   "metadata": {},
   "outputs": [],
   "source": [
    "#ONLY RUN THIS FILE ONCE! get_all_objects() is slow... luckily I've saved the resulting dataframe as a .pkl\n",
    "\n",
    "import json\n",
    "import requests\n",
    "import pandas as pd\n",
    "import numpy as np\n",
    "import matplotlib.pyplot as plt\n",
    "import pickle\n",
    "import nltk\n",
    "from nltk.stem import PorterStemmer as ps\n",
    "from nltk.tokenize import word_tokenize\n",
    "from nltk.corpus import stopwords\n",
    "from nltk.tokenize import WordPunctTokenizer\n",
    "stemmer = ps()\n",
    "from nltk.stem.cistem import Cistem\n",
    "from nltk.tokenize import word_tokenize\n",
    "stop_words = set(stopwords.words('english'))\n",
    "import uuid\n",
    "from concurrent.futures import ThreadPoolExecutor, as_completed\n"
   ]
  },
  {
   "cell_type": "code",
   "execution_count": 2,
   "id": "5f4f0f70",
   "metadata": {},
   "outputs": [],
   "source": [
    "def api_call(x):\n",
    "    session = requests.Session()\n",
    "    data_list = []\n",
    "    parameters = {\"items_per_page\": 25,\n",
    "                      \"page\": x}\n",
    "    response = session.get(\"https://risdmuseum.org/api/v1/collection\", params=parameters).json()\n",
    "    for item in response:\n",
    "        data_list.append(item)\n",
    "    return data_list \n",
    "    \n",
    "        \n",
    "\n",
    "    "
   ]
  },
  {
   "cell_type": "code",
   "execution_count": null,
   "id": "e4c9e55b",
   "metadata": {},
   "outputs": [],
   "source": [
    "def runner(function, var):\n",
    "    giant_list = []\n",
    "    threads= []\n",
    "    with ThreadPoolExecutor(max_workers=20) as executor:\n",
    "        for x in range(0, var):\n",
    "            threads.append(executor.submit(function, x))\n",
    "            \n",
    "        for task in as_completed(threads):\n",
    "            giant_list.append(task.result())\n",
    "    return giant_list"
   ]
  },
  {
   "cell_type": "code",
   "execution_count": 4,
   "id": "4253d047",
   "metadata": {},
   "outputs": [],
   "source": [
    "data_list = runner(api_call, 3289)"
   ]
  },
  {
   "cell_type": "code",
   "execution_count": 19,
   "id": "6a83be43",
   "metadata": {},
   "outputs": [],
   "source": [
    "def dict_to_df(a_dict):\n",
    "    new_df = pd.json_normalize(a_dict)\n",
    "    new_df['makers'] = new_df['makers'].astype(str)\n",
    "    filtered_df = new_df[new_df['makers'].str.contains(\"'name': 'Unknown'\")]\n",
    "    return filtered_df"
   ]
  },
  {
   "cell_type": "code",
   "execution_count": 20,
   "id": "c56de741",
   "metadata": {},
   "outputs": [],
   "source": []
  },
  {
   "cell_type": "code",
   "execution_count": 24,
   "id": "094991ea",
   "metadata": {},
   "outputs": [],
   "source": [
    "def dict_runner(function, var):\n",
    "    df = pd.DataFrame()\n",
    "    threads= []\n",
    "    with ThreadPoolExecutor(max_workers=20) as executor:\n",
    "        for a_dict in var:\n",
    "            threads.append(executor.submit(function, a_dict))\n",
    "            \n",
    "        for task in as_completed(threads):\n",
    "            df = df.append(task.result())\n",
    "    return df"
   ]
  },
  {
   "cell_type": "code",
   "execution_count": 25,
   "id": "74d4a07e",
   "metadata": {},
   "outputs": [],
   "source": [
    "object_df = dict_runner(dict_to_df, data_list)"
   ]
  },
  {
   "cell_type": "code",
   "execution_count": 27,
   "id": "54718d2a",
   "metadata": {},
   "outputs": [],
   "source": [
    "object_df.to_pickle(\"./unknown_makers_FINAL.pkl\")"
   ]
  },
  {
   "cell_type": "code",
   "execution_count": null,
   "id": "671c8aba",
   "metadata": {},
   "outputs": [],
   "source": []
  }
 ],
 "metadata": {
  "kernelspec": {
   "display_name": "Python 3",
   "language": "python",
   "name": "python3"
  },
  "language_info": {
   "codemirror_mode": {
    "name": "ipython",
    "version": 3
   },
   "file_extension": ".py",
   "mimetype": "text/x-python",
   "name": "python",
   "nbconvert_exporter": "python",
   "pygments_lexer": "ipython3",
   "version": "3.8.8"
  }
 },
 "nbformat": 4,
 "nbformat_minor": 5
}
