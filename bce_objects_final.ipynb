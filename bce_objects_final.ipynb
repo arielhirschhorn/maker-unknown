{
 "cells": [
  {
   "cell_type": "code",
   "execution_count": 2,
   "id": "d2c230db",
   "metadata": {},
   "outputs": [],
   "source": [
    "import json\n",
    "import requests\n",
    "import pandas as pd\n",
    "import numpy as np\n",
    "import matplotlib.pyplot as plt\n",
    "import pickle\n",
    "import nltk\n",
    "from nltk.stem import PorterStemmer as ps\n",
    "from nltk.tokenize import word_tokenize\n",
    "from nltk.corpus import stopwords\n",
    "from nltk.tokenize import WordPunctTokenizer\n",
    "stemmer = ps()\n",
    "from nltk.stem.cistem import Cistem\n",
    "from nltk.tokenize import word_tokenize\n",
    "stop_words = set(stopwords.words('english'))\n",
    "import uuid\n",
    "import plotly.express as px\n",
    "from concurrent.futures import ThreadPoolExecutor, as_completed\n",
    "pd.set_option(\"display.max_rows\", None, \"display.max_columns\", None)"
   ]
  },
  {
   "cell_type": "code",
   "execution_count": 3,
   "id": "2127aa9a",
   "metadata": {},
   "outputs": [],
   "source": [
    "#Reading in known maker files from .pkl, creating BCE dataframe\n",
    "known_df = pd.read_pickle(\"./full_known_dataset_FINAL.pkl\")\n",
    "known_bce_objects = known_df[(known_df['datingYearFrom'] != '')]\n",
    "known_bce_objects =  known_bce_objects[(known_bce_objects['datingYearFrom'].astype('int32') < 0)]"
   ]
  },
  {
   "cell_type": "code",
   "execution_count": 16,
   "id": "1566cd28",
   "metadata": {},
   "outputs": [],
   "source": [
    "#Get counts of any field\n",
    "def get_counts(original_df, category_name, new_name):\n",
    "    if(isinstance(original_df[category_name].iloc[0], list)):\n",
    "        mega_list = []\n",
    "        for row in original_df[category_name]:\n",
    "            item_list = row\n",
    "            for item in row: \n",
    "                mega_list.append(item)\n",
    "                mega_list.sort()\n",
    "        new_dict = {}\n",
    "        for category in mega_list:\n",
    "            if not category in new_dict.keys():\n",
    "                new_dict[category] = 1\n",
    "            else:\n",
    "                new_dict[category] +=1\n",
    "        counts_df = pd.DataFrame([new_dict]).melt()\n",
    "\n",
    "    else:\n",
    "        counts = original_df.groupby([category_name]).size()\n",
    "        counts_df = counts.to_frame().reset_index(category_name)\n",
    "    counts_df.columns = [new_name, 'Object Count']\n",
    "    sorted_df = counts_df.sort_values('Object Count', ascending = False)\n",
    "    return sorted_df"
   ]
  },
  {
   "cell_type": "code",
   "execution_count": 28,
   "id": "bfaf5977",
   "metadata": {},
   "outputs": [
    {
     "name": "stdout",
     "output_type": "stream",
     "text": [
      "       Culture  Object Count\n",
      "0        Greek            27\n",
      "2        Roman             9\n",
      "1  Italo-Greek             3\n"
     ]
    }
   ],
   "source": [
    "#Get counts of cultures from known BCE makers\n",
    "culture_counts = get_counts(known_bce_objects, 'culture', 'Culture')\n",
    "print(culture_counts)"
   ]
  },
  {
   "cell_type": "code",
   "execution_count": 29,
   "id": "4a4b32c4",
   "metadata": {},
   "outputs": [
    {
     "name": "stdout",
     "output_type": "stream",
     "text": [
      "  Object Type  Object Count\n",
      "0    Ceramics            30\n",
      "1       Coins             9\n"
     ]
    }
   ],
   "source": [
    "#Get counts of object types from known BCE makers\n",
    "object_types = get_counts(known_bce_objects, 'type', 'Object Type')\n",
    "print(object_types)"
   ]
  },
  {
   "cell_type": "code",
   "execution_count": 5,
   "id": "68284185",
   "metadata": {},
   "outputs": [
    {
     "data": {
      "text/plain": [
       "(1197, 29)"
      ]
     },
     "execution_count": 5,
     "metadata": {},
     "output_type": "execute_result"
    }
   ],
   "source": [
    "#Reading in unknown maker files from .pkl, creating BCE dataframe\n",
    "unknown_df = pd.read_pickle(\"./unknown_makers_FINAL.pkl\")\n",
    "unknown_bce_objects = unknown_df[(unknown_df['datingYearFrom'] != '')]\n",
    "unknown_bce_objects = unknown_bce_objects[unknown_bce_objects['datingYearFrom'].astype('int32') < 0]\n",
    "unknown_bce_objects"
   ]
  },
  {
   "cell_type": "code",
   "execution_count": 23,
   "id": "5ee20db3",
   "metadata": {},
   "outputs": [
    {
     "name": "stdout",
     "output_type": "stream",
     "text": [
      "                       Culture  Object Count\n",
      "25                       Greek           658\n",
      "20                    Egyptian           197\n",
      "15                     Chinese            66\n",
      "21                    Etruscan            51\n",
      "0                                         30\n",
      "30                 Italo-Greek            27\n",
      "23               Graeco-Syrian            24\n",
      "43                       Roman            23\n",
      "28                     Iranian            17\n",
      "11                  Babylonian            16\n",
      "45            Southern Italian            11\n",
      "24                 Greco-Roman             9\n",
      "9        Attic (ancient style)             5\n",
      "18                    Cypriote             5\n",
      "37              Neo-Babylonian             5\n",
      "4                      Ancient             5\n",
      "7                   Asia Minor             4\n",
      "36                Near Eastern             4\n",
      "31                    Luristan             3\n",
      "41                  Phoenician             3\n",
      "1                       Aegean             2\n",
      "35                   Mycenaean             2\n",
      "29                     Italian             2\n",
      "5                Ancient Greek             2\n",
      "22                    European             2\n",
      "39             Paracas culture             2\n",
      "14                      Celtic             2\n",
      "38                     Paracas             1\n",
      "33                     Mexican             1\n",
      "40                    Peruvian             1\n",
      "42                    Phrygian             1\n",
      "44            Southern Arabian             1\n",
      "34                      Minoan             1\n",
      "27                     Iberian             1\n",
      "32                Mesopotamian             1\n",
      "2                     Akkadian             1\n",
      "8                     Assyrian             1\n",
      "26                 Hellenistic             1\n",
      "3                    Anatolian             1\n",
      "19              Early Etruscan             1\n",
      "17                      Cretan             1\n",
      "16  Corinthian (ancient style)             1\n",
      "6                      Apulian             1\n",
      "13                   Campanian             1\n",
      "12                    Boeotian             1\n",
      "10                 Attic style             1\n",
      "46                    Sumerian             1\n"
     ]
    }
   ],
   "source": [
    "#Get counts of cultures from unknown BCE makers\n",
    "culture_counts_unknown = get_counts(unknown_bce_objects, 'culture', 'Culture')\n",
    "print(culture_counts_unknown)"
   ]
  },
  {
   "cell_type": "code",
   "execution_count": 27,
   "id": "18b3f851",
   "metadata": {},
   "outputs": [
    {
     "name": "stdout",
     "output_type": "stream",
     "text": [
      "               Object Type  Object Count\n",
      "6                    Coins           442\n",
      "5                 Ceramics           212\n",
      "18               Sculpture           199\n",
      "13                 Jewelry           104\n",
      "16               Metalwork            75\n",
      "15        Material Culture            47\n",
      "11                   Glass            34\n",
      "9          Decorative Arts            22\n",
      "10                 Fashion            16\n",
      "14        Lighting Devices            15\n",
      "20               Stonework            13\n",
      "21                Textiles            11\n",
      "0                  Amulets             9\n",
      "4                 Basketry             8\n",
      "19                   Seals             6\n",
      "17               Paintings             4\n",
      "3                Artifacts             4\n",
      "12                   Ivory             3\n",
      "8      Costume Accessories             3\n",
      "2           Arms and Armor             3\n",
      "22                   Tools             2\n",
      "1   Architectural Elements             1\n",
      "7                  Costume             1\n",
      "23                    Toys             1\n",
      "24                Utensils             1\n"
     ]
    }
   ],
   "source": [
    "#Get counts of medium types from unknown BCE makers\n",
    "medium_counts_unknown = get_counts(unknown_bce_objects, 'type', 'Object Type')\n",
    "print(medium_counts_unknown)"
   ]
  },
  {
   "cell_type": "code",
   "execution_count": null,
   "id": "c130fe47",
   "metadata": {},
   "outputs": [],
   "source": []
  }
 ],
 "metadata": {
  "kernelspec": {
   "display_name": "Python 3",
   "language": "python",
   "name": "python3"
  },
  "language_info": {
   "codemirror_mode": {
    "name": "ipython",
    "version": 3
   },
   "file_extension": ".py",
   "mimetype": "text/x-python",
   "name": "python",
   "nbconvert_exporter": "python",
   "pygments_lexer": "ipython3",
   "version": "3.8.8"
  }
 },
 "nbformat": 4,
 "nbformat_minor": 5
}
